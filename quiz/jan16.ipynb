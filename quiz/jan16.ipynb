{
 "cells": [
  {
   "cell_type": "code",
   "execution_count": 27,
   "metadata": {},
   "outputs": [
    {
     "name": "stdout",
     "output_type": "stream",
     "text": [
      "[0 1 1 1 1 1 1 1 0 0 1 0 1 0 0 0 1 1 0 0 1 1 0 0 1 0 0 1 1 1 1 0 1 1 1 1 0\n",
      " 1 1 1 0 1 1 0 1 1 1 1 1 1]\n"
     ]
    }
   ],
   "source": [
    "import numpy as np\n",
    "import pennylane as qml\n",
    "\n",
    "# YOUR CODE HERE: construct a device that will run the circuit with 50 shots\n",
    "dev = qml.device(\"default.qubit\", wires=1, shots=50)\n",
    "\n",
    "\n",
    "# YOUR CODE HERE: implement the circuit in the picture. Adjust the\n",
    "# function header to take the correct number of parameters, and make sure\n",
    "# to sure to change the return type.\n",
    "def quiz_1_quantum_function(y, x):\n",
    "    qml.Hadamard(wires=0)\n",
    "    qml.RY(y, wires=0)\n",
    "    qml.PauliZ(wires=0)\n",
    "    qml.RX(x, wires=0)\n",
    "    # final measurement: sample from probability distribution of qubit being in state 0 or 1\n",
    "    return qml.sample()\n",
    "\n",
    "\n",
    "# YOUR CODE HERE: use the quantum function and device to construct a QNode\n",
    "# The QNode will be executed by the grader.\n",
    "quiz_1_qnode = qml.QNode(quiz_1_quantum_function, dev)\n",
    "\n",
    "correct = np.array([1, 0, 1, 0, 0, 1, 1, 1, 0, 0, 1, 1, 0, 1, 1, 1, 1, 1, 0, 1, 1, 0,\n",
    "            1, 0, 1, 1, 1, 0, 0, 1, 1, 0, 1, 1, 0, 0, 1, 0, 0, 0, 0, 0, 1, 1,\n",
    "            0, 0, 1, 1, 1, 1])\n",
    "\n",
    "results = quiz_1_qnode(y=0.3, x=0.4)\n",
    "print(results)\n",
    "assert(results.shape == correct.shape)"
   ]
  },
  {
   "cell_type": "code",
   "execution_count": 29,
   "metadata": {},
   "outputs": [
    {
     "data": {
      "text/plain": [
       "tensor([0.64481474, 0.35518526], requires_grad=True)"
      ]
     },
     "execution_count": 29,
     "metadata": {},
     "output_type": "execute_result"
    }
   ],
   "source": [
    "dev2 = qml.device(\"default.qubit\", wires=1)\n",
    "\n",
    "def quiz_1_probability(y, x):\n",
    "    qml.Hadamard(wires=0)\n",
    "    qml.RY(y, wires=0)\n",
    "    qml.PauliZ(wires=0)\n",
    "    qml.RX(x, wires=0)\n",
    "    # final measurement: sample from probability distribution of qubit being in state 0 or 1\n",
    "    return qml.probs(wires=0)\n",
    "\n",
    "node2 = qml.QNode(quiz_1_probability, dev2)\n",
    "\n",
    "node2(y=-0.3, x=-0.2)\n"
   ]
  }
 ],
 "metadata": {
  "kernelspec": {
   "display_name": "cpen400q",
   "language": "python",
   "name": "python3"
  },
  "language_info": {
   "codemirror_mode": {
    "name": "ipython",
    "version": 3
   },
   "file_extension": ".py",
   "mimetype": "text/x-python",
   "name": "python",
   "nbconvert_exporter": "python",
   "pygments_lexer": "ipython3",
   "version": "3.11.0"
  },
  "orig_nbformat": 4,
  "vscode": {
   "interpreter": {
    "hash": "635ed6af5a464993c12eb65282051ed9764a82bc104a339084de04a398e679ff"
   }
  }
 },
 "nbformat": 4,
 "nbformat_minor": 2
}
