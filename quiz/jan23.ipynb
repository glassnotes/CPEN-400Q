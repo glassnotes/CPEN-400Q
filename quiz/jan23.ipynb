{
 "cells": [
  {
   "cell_type": "code",
   "execution_count": 11,
   "metadata": {},
   "outputs": [
    {
     "name": "stdout",
     "output_type": "stream",
     "text": [
      "[0. 1.]\n"
     ]
    }
   ],
   "source": [
    "import numpy as np\n",
    "import pennylane as qml\n",
    "\n",
    "# YOUR CODE HERE: construct a device\n",
    "dev = qml.device(\"default.qubit\", wires=3)\n",
    "\n",
    "\n",
    "# YOUR CODE HERE: implement the circuit in the picture. Adjust the\n",
    "# function header to take the correct number of parameters, and make sure\n",
    "# to sure to change the return type.\n",
    "def quiz_2_quantum_function(x, y):\n",
    "    qml.Hadamard(wires=0)\n",
    "    qml.Hadamard(wires=1)\n",
    "    qml.Hadamard(wires=2)\n",
    "    \n",
    "    qml.RX(x, wires=1)\n",
    "    qml.CRY(y, wires=[0, 2])\n",
    "    qml.Toffoli(wires=[0, 2, 1])\n",
    "\n",
    "    return qml.probs(wires=2)\n",
    "\n",
    "\n",
    "# YOUR CODE HERE: use the quantum function and device to construct a QNode\n",
    "# The QNode will be executed by the grader.\n",
    "quiz_2_qnode = qml.QNode(quiz_2_quantum_function, dev)\n",
    "\n",
    "res = quiz_2_qnode(x=0.3, y=0.4)\n",
    "print(res)"
   ]
  },
  {
   "cell_type": "code",
   "execution_count": 14,
   "metadata": {},
   "outputs": [
    {
     "data": {
      "text/plain": [
       "0.8408058678694619"
      ]
     },
     "execution_count": 14,
     "metadata": {},
     "output_type": "execute_result"
    }
   ],
   "source": [
    "dev = qml.device(\"default.qubit\", wires=1)\n",
    "\n",
    "phi = np.array([-np.exp(-2j/3)/np.sqrt(5), -2j/np.sqrt(5)])\n",
    "\n",
    "b1 = np.array([2j/np.sqrt(5), 1/np.sqrt(5) * np.exp(2j / 3)])\n",
    "b2 = np.array([1/2 * np.exp(-5j/4), np.sqrt(3)/2])\n",
    "\n",
    "np.abs(np.vdot(phi, b2)) ** 2\n"
   ]
  },
  {
   "cell_type": "code",
   "execution_count": null,
   "metadata": {},
   "outputs": [],
   "source": []
  }
 ],
 "metadata": {
  "kernelspec": {
   "display_name": "cpen400q",
   "language": "python",
   "name": "python3"
  },
  "language_info": {
   "codemirror_mode": {
    "name": "ipython",
    "version": 3
   },
   "file_extension": ".py",
   "mimetype": "text/x-python",
   "name": "python",
   "nbconvert_exporter": "python",
   "pygments_lexer": "ipython3",
   "version": "3.11.0"
  },
  "orig_nbformat": 4,
  "vscode": {
   "interpreter": {
    "hash": "635ed6af5a464993c12eb65282051ed9764a82bc104a339084de04a398e679ff"
   }
  }
 },
 "nbformat": 4,
 "nbformat_minor": 2
}
