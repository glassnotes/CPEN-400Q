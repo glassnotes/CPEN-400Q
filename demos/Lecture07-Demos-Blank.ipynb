{
 "cells": [
  {
   "cell_type": "markdown",
   "id": "1ecc2235-07c3-4098-8bb1-cd170f86e5c5",
   "metadata": {},
   "source": [
    "# Demos: Lecture 07"
   ]
  },
  {
   "cell_type": "markdown",
   "id": "bf943dfd-0559-45ce-93c8-2e73db83f52a",
   "metadata": {},
   "source": [
    "## Demo 1: Expectation values"
   ]
  },
  {
   "cell_type": "code",
   "execution_count": null,
   "id": "3708a41d-3006-4e4c-b3f1-bb5d745c26e0",
   "metadata": {},
   "outputs": [],
   "source": []
  },
  {
   "cell_type": "markdown",
   "id": "34443a94-f07f-4753-82d0-da1141c44c63",
   "metadata": {},
   "source": [
    "## Demo 2: gradient of a quantum circuit"
   ]
  },
  {
   "cell_type": "markdown",
   "id": "0cc23870-1160-4015-a479-c24122426349",
   "metadata": {},
   "source": [
    "<img src=\"fig/pauliz_opt.png\" width=\"400px\">"
   ]
  },
  {
   "cell_type": "code",
   "execution_count": null,
   "id": "4cebd3ce-edeb-4fbd-84fe-91cfac99c467",
   "metadata": {},
   "outputs": [],
   "source": []
  },
  {
   "cell_type": "markdown",
   "id": "82018df8-dc4b-4455-87cf-ed96251e7fd6",
   "metadata": {
    "tags": []
   },
   "source": [
    "## Demo 3: training a small PQC"
   ]
  },
  {
   "cell_type": "code",
   "execution_count": null,
   "id": "bd0255e5-2eec-450d-8983-46a7796dbbc6",
   "metadata": {},
   "outputs": [],
   "source": []
  }
 ],
 "metadata": {
  "kernelspec": {
   "display_name": "Python 3",
   "language": "python",
   "name": "python3"
  },
  "language_info": {
   "codemirror_mode": {
    "name": "ipython",
    "version": 3
   },
   "file_extension": ".py",
   "mimetype": "text/x-python",
   "name": "python",
   "nbconvert_exporter": "python",
   "pygments_lexer": "ipython3",
   "version": "3.8.5"
  }
 },
 "nbformat": 4,
 "nbformat_minor": 5
}
