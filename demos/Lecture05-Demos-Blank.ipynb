{
 "cells": [
  {
   "cell_type": "markdown",
   "metadata": {},
   "source": [
    "# Demos: Lecture 5 "
   ]
  },
  {
   "cell_type": "code",
   "execution_count": 2,
   "metadata": {},
   "outputs": [],
   "source": [
    "import pennylane as qml\n",
    "from pennylane import numpy as np"
   ]
  },
  {
   "cell_type": "markdown",
   "metadata": {},
   "source": [
    "## Demo 1: superdense coding"
   ]
  },
  {
   "cell_type": "markdown",
   "metadata": {},
   "source": [
    "<img src=\"fig/superdense.png\" width=\"600px\"> "
   ]
  },
  {
   "cell_type": "code",
   "execution_count": 8,
   "metadata": {},
   "outputs": [],
   "source": [
    "# make quantum finction that makes an entangled state\n",
    "def create_entangled_state(wires):\n",
    "    qml.Hadamard(wires=wires[0])\n",
    "    qml.CNOT(wires=[wires[0], wires[1]])\n",
    "\n",
    "def alice(b1, b2, wire):\n",
    "    if b1 == 1:\n",
    "        qml.PauliZ(wires=wire)\n",
    "    if b2 == 1:\n",
    "        qml.PauliX(wires=wire)\n",
    "\n",
    "# make shots = 1 to make it deterministic\n",
    "dev = qml.device(\"default.qubit\", wires=2, shots=1)\n",
    "\n",
    "@qml.qnode(dev)\n",
    "def superdense_coding(b1, b2):\n",
    "    create_entangled_state([0, 1])\n",
    "    alice(b1, b2, 0)\n",
    "\n",
    "    # reverse back from bell basis to computational basis\n",
    "    qml.adjoint(create_entangled_state)([0, 1]) # returns a fxn\n",
    "\n",
    "    return qml.sample()"
   ]
  },
  {
   "cell_type": "code",
   "execution_count": 9,
   "metadata": {},
   "outputs": [
    {
     "data": {
      "text/plain": [
       "tensor([0, 0], requires_grad=True)"
      ]
     },
     "execution_count": 9,
     "metadata": {},
     "output_type": "execute_result"
    }
   ],
   "source": [
    "superdense_coding(0, 0)"
   ]
  },
  {
   "cell_type": "markdown",
   "metadata": {},
   "source": [
    "## Demo 2: teleportation "
   ]
  },
  {
   "attachments": {},
   "cell_type": "markdown",
   "metadata": {},
   "source": [
    " <img src=\"fig/teleportation.png\" width=\"800px\">"
   ]
  },
  {
   "cell_type": "markdown",
   "metadata": {},
   "source": []
  }
 ],
 "metadata": {
  "kernelspec": {
   "display_name": "cpen400q",
   "language": "python",
   "name": "python3"
  },
  "language_info": {
   "codemirror_mode": {
    "name": "ipython",
    "version": 3
   },
   "file_extension": ".py",
   "mimetype": "text/x-python",
   "name": "python",
   "nbconvert_exporter": "python",
   "pygments_lexer": "ipython3",
   "version": "3.11.0"
  },
  "vscode": {
   "interpreter": {
    "hash": "635ed6af5a464993c12eb65282051ed9764a82bc104a339084de04a398e679ff"
   }
  }
 },
 "nbformat": 4,
 "nbformat_minor": 4
}
