{
 "cells": [
  {
   "cell_type": "markdown",
   "id": "877db40a-e5e9-462a-84e5-0e2f52b93597",
   "metadata": {},
   "source": [
    "# Demos: Lecture 2"
   ]
  },
  {
   "cell_type": "markdown",
   "id": "d7f6550f-3b76-4b19-8bd1-e41bbe7cab4c",
   "metadata": {},
   "source": [
    "## Demo 1: QNodes"
   ]
  },
  {
   "cell_type": "markdown",
   "id": "fa6c1c7d-d6ec-4170-ba10-731ff6ead12c",
   "metadata": {},
   "source": [
    "<img src=\"fig/xzh.png\" width=300>"
   ]
  },
  {
   "cell_type": "code",
   "execution_count": 4,
   "id": "3ee4789b-cf09-4233-8173-addff20dead8",
   "metadata": {},
   "outputs": [],
   "source": [
    "import pennylane as qml\n",
    "import numpy as np\n",
    "import math"
   ]
  },
  {
   "cell_type": "code",
   "execution_count": 11,
   "id": "27642419-f642-499b-b789-68841ee89edd",
   "metadata": {},
   "outputs": [
    {
     "data": {
      "text/plain": [
       "tensor(0.52, requires_grad=True)"
      ]
     },
     "execution_count": 11,
     "metadata": {},
     "output_type": "execute_result"
    }
   ],
   "source": [
    "# create device to run computation on\n",
    "# wires: how many Qbits there are, 0 indexed\n",
    "# shots: number of samples to measure\n",
    "dev = qml.device(\"default.qubit\", wires=1, shots=1000)\n",
    "\n",
    "# define quantum computation function\n",
    "def f1():\n",
    "    # Quantum computations to run\n",
    "    qml.Hadamard(wires=0)\n",
    "    qml.PauliZ(wires=0)\n",
    "    qml.PauliX(wires=0)\n",
    "    # final measurement: sample from probability distribution of qubit being in state 0 or 1\n",
    "    return qml.sample()\n",
    "\n",
    "# create QNode\n",
    "myNode = qml.QNode(f1, dev)\n",
    "\n",
    "# execute function\n",
    "results = myNode() # 1000 samples/ shots\n",
    "\n",
    "# compute mean\n",
    "np.mean(results)"
   ]
  },
  {
   "cell_type": "markdown",
   "id": "822cc78c-1331-4a04-9461-79e561a30748",
   "metadata": {},
   "source": [
    "## Exercise 1: relative phases"
   ]
  },
  {
   "cell_type": "markdown",
   "id": "892b9555-047a-491f-9657-696f74410ee1",
   "metadata": {},
   "source": [
    "Implement the circuit in the picture. Run it on a device with 1000 shots, and try two different values of $\\theta$. How does $\\theta$ affect the measurement outcome probabilites?\n",
    "\n",
    "<img src=\"fig/exercise-circuit.png\" width=600>"
   ]
  },
  {
   "cell_type": "code",
   "execution_count": 12,
   "id": "e63e36f7-16c1-471f-af8b-bd9bb3605ca3",
   "metadata": {},
   "outputs": [],
   "source": [
    "dev2 = qml.device(\"default.qubit\", wires=1, shots=1000)\n",
    "\n",
    "def f2(phi):\n",
    "    qml.Hadamard(wires=0)\n",
    "    qml.RZ(phi, wires=0)\n",
    "    return qml.sample()\n",
    "\n",
    "qNode2 = qml.QNode(f2, dev2)\n",
    "\n",
    "# execute function\n",
    "results = qNode2(0)\n",
    "print(\"0, \", np.mean(results))\n",
    "\n",
    "results = qNode2(math.pi / 2)\n",
    "print(\"math.pi / 2, \", np.mean(results))\n",
    "\n",
    "results = qNode2(math.pi)\n",
    "print(\"math.pi, \", np.mean(results))\n",
    "\n",
    "results = qNode2(- math.pi / 2)\n",
    "print(\"- math.pi / 2, \", np.mean(results))"
   ]
  },
  {
   "cell_type": "markdown",
   "id": "dacdd8f6-8ef0-4cb6-83b4-947df3d01713",
   "metadata": {},
   "source": [
    "## Exercise 2: state preparation"
   ]
  },
  {
   "cell_type": "markdown",
   "id": "e101b5e3-c666-4432-8855-bd20afd3347e",
   "metadata": {},
   "source": [
    "Write a QNode that prepares the quantum state\n",
    "\n",
    "$$\n",
    "\\begin{equation*}\n",
    "|\\psi \\rangle = \\frac{\\sqrt{3}}{2}|0 \\rangle  - \\frac{1}{2} e^{i\\frac{5}{4}}| 1\\rangle \n",
    "\\end{equation*}\n",
    "$$\n",
    "\n",
    "Run it on an ideal simulated device (do not set `shots`), and return `qml.state()`. "
   ]
  },
  {
   "cell_type": "code",
   "execution_count": 19,
   "id": "18b32247-1868-4e5b-b157-9990cdea32bb",
   "metadata": {},
   "outputs": [],
   "source": [
    "dev = qml.device(\"default.qubit\", wires=1)"
   ]
  },
  {
   "cell_type": "code",
   "execution_count": 44,
   "id": "83ee7943-ffaf-47d0-87e7-80f14cec606b",
   "metadata": {},
   "outputs": [],
   "source": [
    "def prepare_state():\n",
    "    # The RY gets us the correct amplitudes of the coefficients\n",
    "    qml.RY(-np.pi/3, wires=0)\n",
    "    \n",
    "    # The RZ will add the phases; notice that we are adding π to the phase.\n",
    "    # This is becaues of the (-) out front, as -e^{i5/4} = e^{i(π + 5/4)}.\n",
    "    qml.RZ(np.pi + 5/4, wires=0)\n",
    "    return qml.state()"
   ]
  },
  {
   "cell_type": "code",
   "execution_count": 45,
   "id": "e17a843b-f2ee-4de2-997a-e886a8fd141c",
   "metadata": {},
   "outputs": [],
   "source": [
    "qnode = qml.QNode(prepare_state, dev)"
   ]
  },
  {
   "cell_type": "code",
   "execution_count": 46,
   "id": "659e1226-5be9-4b48-90c6-c4866704cd70",
   "metadata": {},
   "outputs": [
    {
     "data": {
      "text/plain": [
       "tensor([-0.5067091 -0.70231466j,  0.29254864-0.40548156j], requires_grad=True)"
      ]
     },
     "execution_count": 46,
     "metadata": {},
     "output_type": "execute_result"
    }
   ],
   "source": [
    "qnode()"
   ]
  },
  {
   "cell_type": "markdown",
   "id": "22575d41-174c-4412-b062-a7e4e25d9ec6",
   "metadata": {},
   "source": [
    "Note that there is a complex part in the first element ($\\alpha$). This is because of the form of $RZ(\\theta)$:\n",
    "\n",
    "\\begin{equation}\n",
    "RZ(\\theta) = \\begin{pmatrix} e^{-i\\theta/2} & 0 \\\\ 0 & e^{i\\theta / 2} \\end{pmatrix}\n",
    "\\end{equation}\n",
    "\n",
    "So the $\\vert 0 \\rangle$ state has an extra phase of $e^{-i\\theta/2}$. But that's okay: we can pull out the complex part as a *global phase* and see what we have left."
   ]
  },
  {
   "cell_type": "code",
   "execution_count": 47,
   "id": "cb6723ce-86ee-4b17-b00a-4aaf77357f0f",
   "metadata": {},
   "outputs": [],
   "source": [
    "state_with_global_phase = qnode()\n",
    "global_phase = np.angle(state_with_global_phase[0]) # Get the angle of complex part\n",
    "without_global_phase = state_with_global_phase / np.exp(1j * global_phase)"
   ]
  },
  {
   "cell_type": "code",
   "execution_count": 48,
   "id": "c767dfa1-808d-486f-b1d8-0b17ebdc54c3",
   "metadata": {},
   "outputs": [
    {
     "data": {
      "text/plain": [
       "tensor([0.8660254 -0.j        , 0.15766118+0.47449231j], requires_grad=True)"
      ]
     },
     "execution_count": 48,
     "metadata": {},
     "output_type": "execute_result"
    }
   ],
   "source": [
    "state_without_global_phase"
   ]
  },
  {
   "cell_type": "markdown",
   "id": "83d74077-b426-45e3-85ac-5763700cd170",
   "metadata": {},
   "source": [
    "The first element matches now; let's check the second by looking at its magnitude and phase."
   ]
  },
  {
   "cell_type": "code",
   "execution_count": 49,
   "id": "68ca5f04-437c-4bb2-8112-537aa288e524",
   "metadata": {},
   "outputs": [
    {
     "data": {
      "text/plain": [
       "tensor(0.5, requires_grad=True)"
      ]
     },
     "execution_count": 49,
     "metadata": {},
     "output_type": "execute_result"
    }
   ],
   "source": [
    "np.abs(state_without_global_phase[1])"
   ]
  },
  {
   "cell_type": "code",
   "execution_count": 50,
   "id": "122e0cd9-d366-4662-8a67-4f317b8dc823",
   "metadata": {},
   "outputs": [
    {
     "data": {
      "text/plain": [
       "tensor(1.25, requires_grad=True)"
      ]
     },
     "execution_count": 50,
     "metadata": {},
     "output_type": "execute_result"
    }
   ],
   "source": [
    "np.angle(state_without_global_phase[1])"
   ]
  },
  {
   "cell_type": "markdown",
   "id": "e3822577-7637-40e0-8459-e2c6abdb5a0c",
   "metadata": {},
   "source": [
    "## Demo 2: universality of Pauli rotations"
   ]
  },
  {
   "cell_type": "markdown",
   "id": "8074fba9-bb3b-4e84-a542-b4561f484c3f",
   "metadata": {},
   "source": [
    "The Hadamard gate three ways."
   ]
  },
  {
   "cell_type": "code",
   "execution_count": null,
   "id": "13e68e80-18ac-4cf5-adf2-570aeff387c9",
   "metadata": {},
   "outputs": [],
   "source": [
    "def hadamard():\n",
    "    qml.Hadamard(wires=0)\n",
    "\n",
    "def hadamard_with_rzrx():\n",
    "    qml.RZ(np.pi/2, wires=0)\n",
    "    qml.RX(np.pi/2, wires=0)\n",
    "    qml.RZ(np.pi/2, wires=0)\n",
    "    \n",
    "def hadamard_with_rot():\n",
    "    qml.Rot(np.pi, np.pi/2, 0, wires=0)"
   ]
  },
  {
   "cell_type": "code",
   "execution_count": null,
   "id": "d3fe67d6-8d76-4cb1-9e79-f022fb39b6c9",
   "metadata": {},
   "outputs": [],
   "source": []
  }
 ],
 "metadata": {
  "kernelspec": {
   "display_name": "Python 3",
   "language": "python",
   "name": "python3"
  },
  "language_info": {
   "codemirror_mode": {
    "name": "ipython",
    "version": 3
   },
   "file_extension": ".py",
   "mimetype": "text/x-python",
   "name": "python",
   "nbconvert_exporter": "python",
   "pygments_lexer": "ipython3",
   "version": "3.10.8 (main, Oct 13 2022, 09:48:40) [Clang 14.0.0 (clang-1400.0.29.102)]"
  },
  "vscode": {
   "interpreter": {
    "hash": "b0fa6594d8f4cbf19f97940f81e996739fb7646882a419484c72d19e05852a7e"
   }
  }
 },
 "nbformat": 4,
 "nbformat_minor": 5
}
