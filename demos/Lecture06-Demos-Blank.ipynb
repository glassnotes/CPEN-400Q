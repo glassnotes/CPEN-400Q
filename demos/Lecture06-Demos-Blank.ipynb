{
 "cells": [
  {
   "cell_type": "markdown",
   "metadata": {},
   "source": [
    "# Demos: Lecture 6"
   ]
  },
  {
   "cell_type": "code",
   "execution_count": 1,
   "metadata": {},
   "outputs": [],
   "source": [
    "import pennylane as qml"
   ]
  },
  {
   "cell_type": "markdown",
   "metadata": {},
   "source": [
    "## Demo 1: teleportation "
   ]
  },
  {
   "cell_type": "markdown",
   "metadata": {},
   "source": [
    " <img src=\"fig/teleportation.png\" width=\"800px\">"
   ]
  },
  {
   "cell_type": "code",
   "execution_count": 11,
   "metadata": {},
   "outputs": [],
   "source": [
    "def create_entangled_state(wires):\n",
    "    qml.Hadamard(wires=wires[0])\n",
    "    qml.CNOT(wires=[wires[0], wires[1]])\n",
    "\n",
    "def prepare_alice_state():\n",
    "    qml.RX(0.3, wires=0)\n",
    "    qml.RY(0.5, wires=0)\n",
    "    qml.Hadamard(wires=0)\n",
    "\n",
    "dev = qml.device(\"default.qubit\", wires=3)\n",
    "\n",
    "@qml.qnode(dev)\n",
    "def teleport():\n",
    "    prepare_alice_state()\n",
    "    create_entangled_state([1, 2])\n",
    "\n",
    "    # create basis rotation/ create_entangled_state in reverse\n",
    "    qml.adjoint(create_entangled_state)([0, 1])\n",
    "\n",
    "    m1 = qml.measure(wires=0)\n",
    "    m2 = qml.measure(wires=1)\n",
    "\n",
    "    qml.cond(m2, qml.PauliX)(wires=2) # conditioned on bit m2, apply PauliX\n",
    "    qml.cond(m1, qml.PauliZ)(wires=2) # conditioned on bit m1, apply PauliZ\n",
    "\n",
    "    # return measurement outcome probability of Bob's qubit\n",
    "    return qml.probs(wires=2)\n",
    "\n",
    "# find out if we are getting correct answer\n",
    "@qml.qnode(dev)\n",
    "def prepare_state_only():\n",
    "    prepare_alice_state()\n",
    "    return qml.probs(wires=0)\n"
   ]
  },
  {
   "cell_type": "code",
   "execution_count": 12,
   "metadata": {},
   "outputs": [
    {
     "data": {
      "text/plain": [
       "tensor([0.72900636, 0.27099364], requires_grad=True)"
      ]
     },
     "execution_count": 12,
     "metadata": {},
     "output_type": "execute_result"
    }
   ],
   "source": [
    "prepare_state_only() # return probability instead of states (harder to understand)"
   ]
  },
  {
   "cell_type": "code",
   "execution_count": 13,
   "metadata": {},
   "outputs": [
    {
     "data": {
      "text/plain": [
       "tensor([0.72900636, 0.27099364], requires_grad=True)"
      ]
     },
     "execution_count": 13,
     "metadata": {},
     "output_type": "execute_result"
    }
   ],
   "source": [
    "teleport() # should return same state"
   ]
  },
  {
   "cell_type": "markdown",
   "metadata": {},
   "source": [
    "## Demo 2: expectation values"
   ]
  },
  {
   "cell_type": "code",
   "execution_count": null,
   "metadata": {},
   "outputs": [],
   "source": []
  }
 ],
 "metadata": {
  "kernelspec": {
   "display_name": "cpen400q",
   "language": "python",
   "name": "python3"
  },
  "language_info": {
   "codemirror_mode": {
    "name": "ipython",
    "version": 3
   },
   "file_extension": ".py",
   "mimetype": "text/x-python",
   "name": "python",
   "nbconvert_exporter": "python",
   "pygments_lexer": "ipython3",
   "version": "3.11.0 | packaged by conda-forge | (main, Oct 25 2022, 06:21:25) [Clang 14.0.4 ]"
  },
  "vscode": {
   "interpreter": {
    "hash": "635ed6af5a464993c12eb65282051ed9764a82bc104a339084de04a398e679ff"
   }
  }
 },
 "nbformat": 4,
 "nbformat_minor": 4
}
