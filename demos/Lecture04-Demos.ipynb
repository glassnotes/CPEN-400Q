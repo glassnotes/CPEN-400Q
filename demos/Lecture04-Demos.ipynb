{
 "cells": [
  {
   "cell_type": "markdown",
   "metadata": {},
   "source": [
    "# Demos: Lecture 4"
   ]
  },
  {
   "cell_type": "code",
   "execution_count": 1,
   "metadata": {},
   "outputs": [],
   "source": [
    "import pennylane as qml\n",
    "from pennylane import numpy as np"
   ]
  },
  {
   "cell_type": "markdown",
   "metadata": {},
   "source": [
    "Given a qubit in state \n",
    "\n",
    "$$\n",
    "\\vert \\psi \\rangle = \\frac{\\sqrt{3}}{2} \\vert 0 \\rangle - \\frac{1}{2}e^{i\\frac{5}{4}} \\vert 1 \\rangle\n",
    "$$\n",
    "\n",
    "what is the measurement outcome probability of $|p\\rangle$ if we measure in the $\\{|p\\rangle, |m\\rangle\\}$ basis? Evaluate the inner product using NumPy."
   ]
  },
  {
   "cell_type": "code",
   "execution_count": 2,
   "metadata": {},
   "outputs": [],
   "source": [
    "psi = np.array([np.sqrt(3)/2, -0.5 * np.exp(1j*5/4)])\n",
    "p = np.array([1/np.sqrt(2), 1j/np.sqrt(2)])\n",
    "m = np.array([1/np.sqrt(2), -1j/np.sqrt(2)])"
   ]
  },
  {
   "cell_type": "code",
   "execution_count": 3,
   "metadata": {},
   "outputs": [
    {
     "data": {
      "text/plain": [
       "0.08907760591867832"
      ]
     },
     "execution_count": 3,
     "metadata": {},
     "output_type": "execute_result"
    }
   ],
   "source": [
    "np.abs(np.vdot(p, psi)) ** 2"
   ]
  },
  {
   "cell_type": "code",
   "execution_count": 4,
   "metadata": {},
   "outputs": [
    {
     "data": {
      "text/plain": [
       "0.9109223940813213"
      ]
     },
     "execution_count": 4,
     "metadata": {},
     "output_type": "execute_result"
    }
   ],
   "source": [
    "np.abs(np.vdot(m, psi)) ** 2"
   ]
  },
  {
   "cell_type": "markdown",
   "metadata": {
    "tags": []
   },
   "source": [
    "## Exercise 1: $Y$-basis rotation"
   ]
  },
  {
   "cell_type": "code",
   "execution_count": 5,
   "metadata": {},
   "outputs": [],
   "source": [
    "dev = qml.device('default.qubit', wires=1)\n",
    "  \n",
    "def convert_to_y_basis():\n",
    "    # YOUR CODE HERE; find a circuit that sends \n",
    "    # |0> -> |p> and |1> -> |m>\n",
    "    qml.Hadamard(wires=0)\n",
    "    qml.S(wires=0)\n",
    "    \n",
    "\n",
    "# Compute the measurement outcome probabilities of state\n",
    "#     sqrt(3)/2 |0> - (1/2)e^(i5/4) |1> \n",
    "# if measuring in this basis.\n",
    "@qml.qnode(dev)\n",
    "def rotate_basis():\n",
    "    # State preparation\n",
    "    qml.RY(-np.pi/3, wires=0)\n",
    "    qml.PhaseShift(5/4, wires=0)\n",
    "    \n",
    "    # Basis rotation\n",
    "    adjoint_rotation = qml.adjoint(convert_to_y_basis)\n",
    "    adjoint_rotation()\n",
    "    \n",
    "    return qml.probs(wires=0)"
   ]
  },
  {
   "cell_type": "code",
   "execution_count": 6,
   "metadata": {},
   "outputs": [
    {
     "data": {
      "text/plain": [
       "tensor([0.08907761, 0.91092239], requires_grad=True)"
      ]
     },
     "execution_count": 6,
     "metadata": {},
     "output_type": "execute_result"
    }
   ],
   "source": [
    "rotate_basis()"
   ]
  },
  {
   "cell_type": "markdown",
   "metadata": {},
   "source": [
    "Same result as from NumPy!"
   ]
  },
  {
   "cell_type": "code",
   "execution_count": 7,
   "metadata": {},
   "outputs": [
    {
     "name": "stdout",
     "output_type": "stream",
     "text": [
      "0: ──RY(-1.05)──Rϕ(1.25)──S⁻¹──H─┤  Probs\n"
     ]
    }
   ],
   "source": [
    "print(qml.draw(rotate_basis)())"
   ]
  },
  {
   "cell_type": "code",
   "execution_count": 8,
   "metadata": {},
   "outputs": [
    {
     "data": {
      "text/plain": [
       "(<Figure size 504x144 with 1 Axes>, <Axes:>)"
      ]
     },
     "execution_count": 8,
     "metadata": {},
     "output_type": "execute_result"
    },
    {
     "data": {
      "image/png": "[encoded data removed]",
      "text/plain": [
       "<Figure size 504x144 with 1 Axes>"
      ]
     },
     "metadata": {},
     "output_type": "display_data"
    }
   ],
   "source": [
    "qml.draw_mpl(rotate_basis)()"
   ]
  },
  {
   "cell_type": "markdown",
   "metadata": {},
   "source": [
    "## Demo 1: `qml.ctrl`"
   ]
  },
  {
   "cell_type": "markdown",
   "metadata": {},
   "source": [
    "Implement the following circuit; apply the controlled operations in two different ways."
   ]
  },
  {
   "cell_type": "markdown",
   "metadata": {},
   "source": [
    "<img src=\"fig/mq-circuit.png\" width=600>"
   ]
  },
  {
   "cell_type": "code",
   "execution_count": 9,
   "metadata": {},
   "outputs": [],
   "source": [
    "dev = qml.device(\"default.qubit\", wires=3)\n",
    "\n",
    "@qml.qnode(dev)\n",
    "def circuit(x, y, z):\n",
    "    qml.CRX(x, wires=[0, 1])\n",
    "    \n",
    "    # CRY does exist, but let's use qml.ctrl just to see\n",
    "    # how we can do it in a different way\n",
    "    qml.ctrl(qml.RY, control=0)(y, wires=2)\n",
    "   \n",
    "    qml.RX(x, wires=0)\n",
    "    qml.RY(y, wires=1)\n",
    "    qml.RZ(z, wires=2)\n",
    "    qml.Hadamard(wires=2)\n",
    "    \n",
    "    # Return measurement outcome probabilities of only the\n",
    "    # last two wires\n",
    "    return qml.probs(wires=[1, 2])"
   ]
  },
  {
   "cell_type": "code",
   "execution_count": 10,
   "metadata": {},
   "outputs": [
    {
     "data": {
      "text/plain": [
       "tensor([0.49501664, 0.49501664, 0.00498336, 0.00498336], requires_grad=True)"
      ]
     },
     "execution_count": 10,
     "metadata": {},
     "output_type": "execute_result"
    }
   ],
   "source": [
    "circuit(0.1, 0.2, 0.3)"
   ]
  },
  {
   "cell_type": "markdown",
   "metadata": {},
   "source": [
    "I did this demo for some students after class; posting here so everyone can see. The `qml.ctrl` transform can be applied to subroutines as well."
   ]
  },
  {
   "cell_type": "code",
   "execution_count": 11,
   "metadata": {},
   "outputs": [],
   "source": [
    "dev = qml.device(\"default.qubit\", wires=3)\n",
    "\n",
    "# Some parametrized subroutine; it acts only on qubits 1 \n",
    "# and 2; we will apply it controlled on qubit 0.\n",
    "def random_function(param):\n",
    "    qml.RY(param, wires=1)\n",
    "    qml.SWAP(wires=[1, 2])\n",
    "    qml.S(wires=2)\n",
    "\n",
    "@qml.qnode(dev)\n",
    "def circuit(x, y, z):\n",
    "    qml.CRX(x, wires=[0, 1])\n",
    "    qml.ctrl(qml.RY, control=0, control_values=\"0\")(y, wires=2)\n",
    "    \n",
    "    qml.RX(x, wires=0)\n",
    "    qml.RY(y, wires=1)\n",
    "    qml.RZ(z, wires=2)\n",
    "    qml.Hadamard(wires=2)\n",
    "    \n",
    "    # Here we apply the controlled subroutine\n",
    "    qml.ctrl(random_function, control=0)(0.2)\n",
    "    \n",
    "    return qml.probs(wires=[1, 2])"
   ]
  },
  {
   "cell_type": "markdown",
   "metadata": {},
   "source": [
    "Below we draw the circuit; setting the kwarg `expansion_strategy=\"device\"` just ensures that in the printed out version, it will unroll the controlled subroutine into individual gates (you can check also what happens if you remove it)."
   ]
  },
  {
   "cell_type": "code",
   "execution_count": 12,
   "metadata": {},
   "outputs": [
    {
     "name": "stdout",
     "output_type": "stream",
     "text": [
      "0: ─╭C────────╭C─────────RX(0.10)─╭C────────╭C────╭C────────┤       \n",
      "1: ─╰RX(0.10)─│──────────RY(0.20)─╰RY(0.20)─├SWAP─│─────────┤ ╭Probs\n",
      "2: ───────────╰RY(0.20)──RZ(0.30)──H────────╰SWAP─╰Rϕ(1.57)─┤ ╰Probs\n"
     ]
    }
   ],
   "source": [
    "print(qml.draw(circuit, expansion_strategy=\"device\")(0.1, 0.2, 0.3))"
   ]
  }
 ],
 "metadata": {
  "kernelspec": {
   "display_name": "Python 3 (ipykernel)",
   "language": "python",
   "name": "python3"
  },
  "language_info": {
   "codemirror_mode": {
    "name": "ipython",
    "version": 3
   },
   "file_extension": ".py",
   "mimetype": "text/x-python",
   "name": "python",
   "nbconvert_exporter": "python",
   "pygments_lexer": "ipython3",
   "version": "3.9.12"
  }
 },
 "nbformat": 4,
 "nbformat_minor": 4
}
