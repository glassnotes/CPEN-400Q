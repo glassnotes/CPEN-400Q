{
 "cells": [
  {
   "cell_type": "markdown",
   "id": "1ecc2235-07c3-4098-8bb1-cd170f86e5c5",
   "metadata": {},
   "source": [
    "# Demos: Lecture 8"
   ]
  },
  {
   "cell_type": "code",
   "execution_count": null,
   "id": "65812e14-324c-435f-ade6-362f6a9ff4be",
   "metadata": {},
   "outputs": [],
   "source": [
    "import pennylane as qml\n",
    "from pennylane import numpy as np\n",
    "from lecture08_helpers import compute_accuracy\n",
    "\n",
    "import matplotlib.pyplot as plt\n",
    "\n",
    "# Loads the training and testing data for you\n",
    "train_X = np.load(\"data/l8_train_X.npy\")\n",
    "train_y = np.load(\"data/l8_train_y.npy\")\n",
    "test_X = np.load(\"data/l8_test_X.npy\")\n",
    "test_y = np.load(\"data/l8_test_y.npy\")\n",
    "\n",
    "train_X = np.array(train_X, requires_grad=False)\n",
    "train_y = np.array(train_y, requires_grad=False)\n",
    "test_X = np.array(test_X, requires_grad=False)\n",
    "test_y = np.array(test_y, requires_grad=False)"
   ]
  },
  {
   "cell_type": "markdown",
   "id": "6e121ef6-0c3f-4e61-aec2-0ec7b1c360b3",
   "metadata": {},
   "source": [
    "## Hands-on\n"
   ]
  },
  {
   "cell_type": "markdown",
   "id": "45b903c3-b99c-43d4-818c-42c3b789e7e3",
   "metadata": {},
   "source": [
    "Design your own VQC to classify this data! Try to beat my record of 93.3\\% accuracy."
   ]
  },
  {
   "cell_type": "code",
   "execution_count": null,
   "id": "b4fafcc0-d817-4a97-8887-176c08601e2f",
   "metadata": {},
   "outputs": [],
   "source": [
    "dev = qml.device(...)\n",
    "\n",
    "@qml.qnode(dev)\n",
    "def vqc_model(data, weights):\n",
    "    # YOUR CODE HERE\n",
    "    # Design an ansatz for this data: choose how the data is encoded\n",
    "    # and the gates that the weights are input into.\n",
    "    \n",
    "    return "
   ]
  },
  {
   "cell_type": "code",
   "execution_count": null,
   "id": "9ae3951a-6052-47ad-9f9a-afbe3462ca4e",
   "metadata": {},
   "outputs": [],
   "source": [
    "def loss(weights):\n",
    "    # YOUR CODE HERE\n",
    "    # Design a new loss function, or adapt the helper function\n",
    "    \n",
    "    return"
   ]
  },
  {
   "cell_type": "code",
   "execution_count": null,
   "id": "204d4adf-035d-448c-8b24-950e0ff9ca77",
   "metadata": {},
   "outputs": [],
   "source": [
    "# Set up initial parameters, and write an optimization loop to train your model.\n",
    "\n",
    "opt = ..."
   ]
  },
  {
   "cell_type": "code",
   "execution_count": null,
   "id": "13258f8e-aa83-46e4-92c3-c7ce161611db",
   "metadata": {},
   "outputs": [],
   "source": [
    "def make_predictions(data, model, weights):\n",
    "    # YOUR CODE HERE\n",
    "    # Modify the make_predictions function based on how you set up your classifier.\n",
    "\n",
    "    return"
   ]
  },
  {
   "cell_type": "markdown",
   "id": "4b1e8d73-2e65-448e-b801-0d7126573f41",
   "metadata": {},
   "source": [
    "After training, you can use the code below to evaluate the metrics."
   ]
  },
  {
   "cell_type": "code",
   "execution_count": null,
   "id": "b5390a0a-fb72-4ded-8d6f-641f9f9f7a93",
   "metadata": {},
   "outputs": [],
   "source": [
    "my_training_predictions = make_predictions(train_X, vqc_model, weights)\n",
    "my_testing_predictions = make_predictions(test_X, vqc_model, weights)\n",
    "                                          \n",
    "training_accuracy = compute_accuracy(my_training_predictions, train_y)\n",
    "testing_accuracy = compute_accuracy(my_testing_predictions, test_y)\n",
    "\n",
    "print(f\"Training accuracy = {training_accuracy}\")\n",
    "print(f\"Testing accuracy = {testing_accuracy}\")"
   ]
  },
  {
   "cell_type": "code",
   "execution_count": null,
   "id": "52c4fcd3-c5ea-4b28-be0c-d8616496b0bd",
   "metadata": {},
   "outputs": [],
   "source": []
  }
 ],
 "metadata": {
  "kernelspec": {
   "display_name": "Python 3 (ipykernel)",
   "language": "python",
   "name": "python3"
  },
  "language_info": {
   "codemirror_mode": {
    "name": "ipython",
    "version": 3
   },
   "file_extension": ".py",
   "mimetype": "text/x-python",
   "name": "python",
   "nbconvert_exporter": "python",
   "pygments_lexer": "ipython3",
   "version": "3.9.7"
  }
 },
 "nbformat": 4,
 "nbformat_minor": 5
}
