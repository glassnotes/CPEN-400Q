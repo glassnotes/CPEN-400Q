{
 "cells": [
  {
   "cell_type": "markdown",
   "metadata": {},
   "source": [
    "# Demos: Lecture 3"
   ]
  },
  {
   "cell_type": "code",
   "execution_count": null,
   "metadata": {},
   "outputs": [],
   "source": [
    "import pennylane as qml\n",
    "from pennylane import numpy as np"
   ]
  },
  {
   "cell_type": "markdown",
   "metadata": {},
   "source": [
    "## Exercise 1: state preparation"
   ]
  },
  {
   "cell_type": "markdown",
   "metadata": {},
   "source": [
    "Write a QNode that prepares the quantum state\n",
    "\n",
    "$$\n",
    "\\begin{equation*}\n",
    "|\\psi \\rangle = \\frac{\\sqrt{3}}{2}|0 \\rangle  - \\frac{1}{\\sqrt{2}} e^{i\\frac{5}{4}}| 1\\rangle \n",
    "\\end{equation*}\n",
    "$$"
   ]
  },
  {
   "cell_type": "code",
   "execution_count": null,
   "metadata": {},
   "outputs": [],
   "source": [
    "dev = qml.device(\"default.qubit\", wires=1)\n",
    "\n",
    "@qml.qnode(dev)\n",
    "def prepare_state():\n",
    "    # YOUR CODE HERE\n",
    "\n",
    "    return "
   ]
  },
  {
   "cell_type": "code",
   "execution_count": null,
   "metadata": {},
   "outputs": [],
   "source": []
  },
  {
   "cell_type": "markdown",
   "metadata": {},
   "source": [
    "## Demo 1: universality of Pauli rotations"
   ]
  },
  {
   "cell_type": "markdown",
   "metadata": {},
   "source": [
    "The Hadamard gate three ways."
   ]
  },
  {
   "cell_type": "code",
   "execution_count": null,
   "metadata": {},
   "outputs": [],
   "source": [
    "def hadamard():\n",
    "    qml.Hadamard(wires=0)\n",
    "\n",
    "def hadamard_with_rzrx():\n",
    "    qml.RZ(np.pi/2, wires=0)\n",
    "    qml.RX(np.pi/2, wires=0)\n",
    "    qml.RZ(np.pi/2, wires=0)\n",
    "    \n",
    "def hadamard_with_rot():\n",
    "    qml.Rot(np.pi, np.pi/2, 0, wires=0)"
   ]
  },
  {
   "cell_type": "code",
   "execution_count": null,
   "metadata": {},
   "outputs": [],
   "source": []
  },
  {
   "cell_type": "markdown",
   "metadata": {
    "tags": []
   },
   "source": [
    "## Exercise 2: $Y$-basis rotation"
   ]
  },
  {
   "cell_type": "code",
   "execution_count": null,
   "metadata": {},
   "outputs": [],
   "source": [
    "dev = qml.device('default.qubit', wires=1)\n",
    "  \n",
    "def convert_from_y_basis():\n",
    "    # YOUR CODE HERE; find a circuit that sends \n",
    "    # |0> -> |p> and |1> -> |m>\n",
    "    \n",
    "@qml.qnode(dev)\n",
    "def rotate_basis():    \n",
    "    return"
   ]
  },
  {
   "cell_type": "code",
   "execution_count": null,
   "metadata": {},
   "outputs": [],
   "source": []
  },
  {
   "cell_type": "markdown",
   "metadata": {},
   "source": [
    "## Demo 2: measuring in the $Y$ basis"
   ]
  },
  {
   "cell_type": "markdown",
   "metadata": {},
   "source": [
    "<img src=\"fig/basis-rotation-hands-on.png\" width=350>"
   ]
  },
  {
   "cell_type": "code",
   "execution_count": null,
   "metadata": {},
   "outputs": [],
   "source": [
    "dev = qml.device('default.qubit', wires=1, shots=100)\n",
    "  \n",
    "@qml.qnode(dev)\n",
    "def rotate_basis(x, y, z):\n",
    "    \n",
    "    return "
   ]
  },
  {
   "cell_type": "code",
   "execution_count": null,
   "metadata": {},
   "outputs": [],
   "source": []
  },
  {
   "cell_type": "markdown",
   "metadata": {},
   "source": [
    "## Demo 3: expectation values"
   ]
  },
  {
   "cell_type": "code",
   "execution_count": null,
   "metadata": {},
   "outputs": [],
   "source": [
    "dev = qml.device('default.qubit', wires=1)\n",
    "  \n",
    "@qml.qnode(dev)\n",
    "def measure_z():\n",
    "    qml.RX(2*np.pi/3, wires=0)    \n",
    "    return qml.expval(qml.PauliZ(0))\n",
    "    #return qml.state()"
   ]
  },
  {
   "cell_type": "code",
   "execution_count": null,
   "metadata": {},
   "outputs": [],
   "source": [
    "measure_z()"
   ]
  },
  {
   "cell_type": "code",
   "execution_count": null,
   "metadata": {},
   "outputs": [],
   "source": [
    "dev = qml.device('default.qubit', wires=1, shots=1000)\n",
    "  \n",
    "@qml.qnode(dev)\n",
    "def measure_z():\n",
    "    qml.RX(2*np.pi/3, wires=0)    \n",
    "    return qml.expval(qml.PauliZ(0))\n",
    "    #return qml.state()"
   ]
  },
  {
   "cell_type": "code",
   "execution_count": null,
   "metadata": {},
   "outputs": [],
   "source": [
    "measure_z()"
   ]
  }
 ],
 "metadata": {
  "kernelspec": {
   "display_name": "Python 3",
   "language": "python",
   "name": "python3"
  },
  "language_info": {
   "codemirror_mode": {
    "name": "ipython",
    "version": 3
   },
   "file_extension": ".py",
   "mimetype": "text/x-python",
   "name": "python",
   "nbconvert_exporter": "python",
   "pygments_lexer": "ipython3",
   "version": "3.8.5"
  }
 },
 "nbformat": 4,
 "nbformat_minor": 4
}
