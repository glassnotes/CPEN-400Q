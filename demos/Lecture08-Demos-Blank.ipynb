{
 "cells": [
  {
   "cell_type": "markdown",
   "id": "1ecc2235-07c3-4098-8bb1-cd170f86e5c5",
   "metadata": {},
   "source": [
    "# Demos: Lecture 8"
   ]
  },
  {
   "cell_type": "code",
   "execution_count": null,
   "id": "65812e14-324c-435f-ade6-362f6a9ff4be",
   "metadata": {},
   "outputs": [],
   "source": [
    "import pennylane as qml\n",
    "from pennylane import numpy as np\n",
    "from lecture08_helpers import *\n",
    "\n",
    "import matplotlib.pyplot as plt\n",
    "from sklearn.datasets import make_blobs"
   ]
  },
  {
   "cell_type": "code",
   "execution_count": null,
   "id": "3d1d92dd-58b3-4afd-9b63-e397a08aa710",
   "metadata": {},
   "outputs": [],
   "source": [
    "n_samples = 100\n",
    "\n",
    "X, y = make_blobs(\n",
    "    n_samples=n_samples, \n",
    "    centers=[[0.1, 0.2], [0.25, 0.4]], \n",
    "    cluster_std=0.05, \n",
    "    n_features=2,\n",
    "    random_state=6\n",
    ")"
   ]
  },
  {
   "cell_type": "code",
   "execution_count": null,
   "id": "bd5067f3-3989-4fdc-ac0f-db9f2e88371a",
   "metadata": {},
   "outputs": [],
   "source": [
    "plot_data(X, y)"
   ]
  },
  {
   "cell_type": "code",
   "execution_count": null,
   "id": "9dc98978-3275-45cf-9df3-8f4f3b005bef",
   "metadata": {},
   "outputs": [],
   "source": [
    "X = np.array(X, requires_grad=False)\n",
    "y = np.array(y, requires_grad=False)\n",
    "y[y == 0] = -1"
   ]
  },
  {
   "cell_type": "markdown",
   "id": "f37af497-8d05-44dc-bd78-0a5f4572ea33",
   "metadata": {},
   "source": [
    "## Model 1: amplitude embedding"
   ]
  },
  {
   "cell_type": "markdown",
   "id": "ec8db24c-294c-4f7a-b3a0-40c925c30b99",
   "metadata": {},
   "source": [
    "<img src=\"fig/model1.png\" width=\"500px\"> "
   ]
  },
  {
   "cell_type": "code",
   "execution_count": null,
   "id": "0b7fcdcd-1645-4eec-81ca-bef2ff02f955",
   "metadata": {},
   "outputs": [],
   "source": [
    "dev = qml.device('default.qubit', wires=1)\n",
    "\n",
    "@qml.qnode(dev)\n",
    "def model_1(point, weights):\n",
    "    \n",
    "    return"
   ]
  },
  {
   "cell_type": "code",
   "execution_count": null,
   "id": "b6499f68-34dc-432c-a54d-7f53c4d94b55",
   "metadata": {},
   "outputs": [],
   "source": [
    "weights = np.random.normal(size=3)"
   ]
  },
  {
   "cell_type": "code",
   "execution_count": null,
   "id": "ac811738-26b9-43d5-b50e-4e1ff0a36537",
   "metadata": {},
   "outputs": [],
   "source": [
    "def loss(weights):\n",
    "    loss_sum = 0.0\n",
    "    \n",
    "    for idx in range(n_samples):\n",
    "        point = X[idx]\n",
    "        true_expval = y[idx]\n",
    "        \n",
    "        estimated_expval = model_1(point, weights)\n",
    "        loss_sum += (estimated_expval - true_expval) ** 2\n",
    "        \n",
    "    return loss_sum / n_samples"
   ]
  },
  {
   "cell_type": "code",
   "execution_count": null,
   "id": "8c80d04e-731e-479e-8d3c-a81cce6b6cdd",
   "metadata": {},
   "outputs": [],
   "source": [
    "our_preds = make_predictions(X, model_1, weights)"
   ]
  },
  {
   "cell_type": "code",
   "execution_count": null,
   "id": "8fa5b74a-b197-477e-9a32-499dc356ffb0",
   "metadata": {},
   "outputs": [],
   "source": [
    "plot_data(X, our_preds)"
   ]
  },
  {
   "cell_type": "code",
   "execution_count": null,
   "id": "4c2354ab-e78d-4488-b1be-a42148d24243",
   "metadata": {},
   "outputs": [],
   "source": [
    "compute_accuracy(y, our_preds)"
   ]
  },
  {
   "cell_type": "code",
   "execution_count": null,
   "id": "6bba1e3c-1bcf-4ca8-8a69-d3f135ce2a9a",
   "metadata": {},
   "outputs": [],
   "source": [
    "opt = qml.GradientDescentOptimizer(stepsize=0.1)\n",
    "\n",
    "n_its = 100\n",
    "\n",
    "loss_track = []\n",
    "\n",
    "for it in range(n_its):\n",
    "    weights, _loss = opt.step_and_cost(loss, weights)\n",
    "    if it % 5 == 0:\n",
    "        our_preds = make_predictions(X, model_1, weights)\n",
    "        print(f\"Loss at iteration {it} = {_loss}  Accuracy = {compute_accuracy(our_preds, y)}\")\n",
    "    loss_track.append(_loss)"
   ]
  },
  {
   "cell_type": "code",
   "execution_count": null,
   "id": "691513aa-6e30-4f8e-b653-e96b3bf51445",
   "metadata": {},
   "outputs": [],
   "source": [
    "our_preds = make_predictions(X, model_1, weights)"
   ]
  },
  {
   "cell_type": "code",
   "execution_count": null,
   "id": "8db8be59-f35f-459e-9802-94c0d83fc4da",
   "metadata": {},
   "outputs": [],
   "source": [
    "plot_data(X, our_preds)"
   ]
  },
  {
   "cell_type": "code",
   "execution_count": null,
   "id": "fd25bbb4-023b-4680-857b-443d026aaca1",
   "metadata": {},
   "outputs": [],
   "source": [
    "compute_accuracy(our_preds, y)"
   ]
  },
  {
   "cell_type": "markdown",
   "id": "b65836f8-042e-4b71-bb2e-8284644db591",
   "metadata": {},
   "source": [
    "## Model 2: angle embedding"
   ]
  },
  {
   "cell_type": "markdown",
   "id": "c4758e3b-8dd7-451c-89d0-7f706ffe4c14",
   "metadata": {},
   "source": [
    "<img src=\"fig/model2.png\" width=\"500px\"> "
   ]
  },
  {
   "cell_type": "code",
   "execution_count": null,
   "id": "63ce17e2-d142-4a63-a919-4749ea01d01f",
   "metadata": {},
   "outputs": [],
   "source": [
    "dev = qml.device('default.qubit', wires=2)\n",
    "\n",
    "@qml.qnode(dev)\n",
    "def model_2(point, weights):\n",
    "    \n",
    "    return"
   ]
  },
  {
   "cell_type": "code",
   "execution_count": null,
   "id": "cb783a3a-1191-44aa-a35f-b903a4a83332",
   "metadata": {},
   "outputs": [],
   "source": [
    "weights = np.random.normal(size=(2, 3), requires_grad=True)"
   ]
  },
  {
   "cell_type": "code",
   "execution_count": null,
   "id": "90328c84-02b8-40a7-9639-3d26b2825f60",
   "metadata": {},
   "outputs": [],
   "source": [
    "print(qml.draw(model_2, expansion_strategy=\"device\")(X[0], weights))"
   ]
  },
  {
   "cell_type": "code",
   "execution_count": null,
   "id": "2a73561e-6c44-4626-907a-ae9f94fdee70",
   "metadata": {},
   "outputs": [],
   "source": [
    "loss = make_loss_function(X, y, model_2)"
   ]
  },
  {
   "cell_type": "code",
   "execution_count": null,
   "id": "93967e41-4df6-40c1-93e4-60b64c0d6b98",
   "metadata": {},
   "outputs": [],
   "source": [
    "our_preds = make_predictions(X, model_2, weights)"
   ]
  },
  {
   "cell_type": "code",
   "execution_count": null,
   "id": "b9bffbad-c42d-453a-acc4-764c872c1a9d",
   "metadata": {},
   "outputs": [],
   "source": [
    "plot_data(X, our_preds)"
   ]
  },
  {
   "cell_type": "code",
   "execution_count": null,
   "id": "9d60c873-fdb2-4ef7-9ac3-4e78183796f8",
   "metadata": {},
   "outputs": [],
   "source": [
    "compute_accuracy(our_preds, y)"
   ]
  },
  {
   "cell_type": "code",
   "execution_count": null,
   "id": "05369fd5-c658-4ff1-be35-a96b93ee64b3",
   "metadata": {},
   "outputs": [],
   "source": [
    "opt = qml.GradientDescentOptimizer(stepsize=0.1)\n",
    "\n",
    "n_its = 100\n",
    "\n",
    "loss_track = []\n",
    "\n",
    "for it in range(n_its):\n",
    "    weights, _loss = opt.step_and_cost(loss, weights)\n",
    "    if it % 5 == 0:\n",
    "        our_preds = make_predictions(X, model_2, weights)\n",
    "        print(f\"Loss at iteration {it} = {_loss}  Accuracy = {compute_accuracy(our_preds, y)}\")\n",
    "    loss_track.append(_loss)"
   ]
  },
  {
   "cell_type": "code",
   "execution_count": null,
   "id": "4b70be42-ddc6-4e86-a58f-c70b91edde6b",
   "metadata": {},
   "outputs": [],
   "source": [
    "our_preds = make_predictions(X, model_2, weights)"
   ]
  },
  {
   "cell_type": "code",
   "execution_count": null,
   "id": "37990c91-cae8-4176-b811-ea093262313f",
   "metadata": {},
   "outputs": [],
   "source": [
    "plot_data(X, y)"
   ]
  },
  {
   "cell_type": "code",
   "execution_count": null,
   "id": "8bb139e1-080c-4506-bab0-be7fb162eacd",
   "metadata": {},
   "outputs": [],
   "source": [
    "plot_data(X, our_preds)"
   ]
  },
  {
   "cell_type": "code",
   "execution_count": null,
   "id": "3f5eb178-296c-41ef-b4be-14e9e133ec70",
   "metadata": {},
   "outputs": [],
   "source": [
    "compute_accuracy(our_preds, y)"
   ]
  },
  {
   "cell_type": "code",
   "execution_count": null,
   "id": "53469ba3-4496-4e96-98a5-60fd52c6e527",
   "metadata": {},
   "outputs": [],
   "source": []
  }
 ],
 "metadata": {
  "kernelspec": {
   "display_name": "Python 3 (ipykernel)",
   "language": "python",
   "name": "python3"
  },
  "language_info": {
   "codemirror_mode": {
    "name": "ipython",
    "version": 3
   },
   "file_extension": ".py",
   "mimetype": "text/x-python",
   "name": "python",
   "nbconvert_exporter": "python",
   "pygments_lexer": "ipython3",
   "version": "3.9.7"
  }
 },
 "nbformat": 4,
 "nbformat_minor": 5
}
