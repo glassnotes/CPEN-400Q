{
 "cells": [
  {
   "cell_type": "markdown",
   "metadata": {},
   "source": [
    "# Demos: Lecture 4"
   ]
  },
  {
   "cell_type": "code",
   "execution_count": 9,
   "metadata": {},
   "outputs": [],
   "source": [
    "import pennylane as qml\n",
    "from pennylane import numpy as np"
   ]
  },
  {
   "cell_type": "code",
   "execution_count": 2,
   "metadata": {},
   "outputs": [
    {
     "ename": "NameError",
     "evalue": "name 'j' is not defined",
     "output_type": "error",
     "traceback": [
      "\u001b[0;31m---------------------------------------------------------------------------\u001b[0m",
      "\u001b[0;31mNameError\u001b[0m                                 Traceback (most recent call last)",
      "Cell \u001b[0;32mIn[2], line 1\u001b[0m\n\u001b[0;32m----> 1\u001b[0m psi \u001b[39m=\u001b[39m np\u001b[39m.\u001b[39marray([np\u001b[39m.\u001b[39msqrt(\u001b[39m3\u001b[39m)\u001b[39m/\u001b[39m\u001b[39m2\u001b[39m, \u001b[39m-\u001b[39m\u001b[39m0.5\u001b[39m \u001b[39m*\u001b[39m np\u001b[39m.\u001b[39mexp(j \u001b[39m*\u001b[39m \u001b[39m5\u001b[39m\u001b[39m/\u001b[39m\u001b[39m4\u001b[39m)])\n\u001b[1;32m      2\u001b[0m p \u001b[39m=\u001b[39m np\u001b[39m.\u001b[39marray([\u001b[39m1\u001b[39m\u001b[39m/\u001b[39mnp\u001b[39m.\u001b[39msqrt(\u001b[39m2\u001b[39m), \u001b[39m1\u001b[39m\u001b[39m/\u001b[39mnp\u001b[39m.\u001b[39msqrt(\u001b[39m2\u001b[39m) \u001b[39m*\u001b[39m np\u001b[39m.\u001b[39mexp()])\n",
      "\u001b[0;31mNameError\u001b[0m: name 'j' is not defined"
     ]
    }
   ],
   "source": [
    "psi = np.array([np.sqrt(3)/2, -0.5 * np.exp(i * 5/4)])\n",
    "p = np.array([1/np.sqrt(2), 1/np.sqrt(2) * np.exp()])"
   ]
  },
  {
   "cell_type": "markdown",
   "metadata": {
    "tags": []
   },
   "source": [
    "## Exercise 1: $Y$-basis rotation"
   ]
  },
  {
   "cell_type": "code",
   "execution_count": 4,
   "metadata": {},
   "outputs": [],
   "source": [
    "dev = qml.device('default.qubit', wires=1)\n",
    "  \n",
    "def convert_to_y_basis():\n",
    "    # YOUR CODE HERE; find a circuit that sends \n",
    "    # |0> -> |p> and |1> -> |m>\n",
    "    qml.Hadamard(wires=0)\n",
    "    qml.S(wires=0)\n",
    "\n",
    "# Compute the measurement outcome probabilities of state\n",
    "#     sqrt(3)/2 |0> - (1/2)e^(i5/4) |1> \n",
    "# if measuring in this basis.\n",
    "@qml.qnode(dev)\n",
    "def rotate_basis():\n",
    "    # state preparation\n",
    "    qml.RY(-np.pi/3, wires=0)\n",
    "    qml.PhaseShift(5/4, wires=0)\n",
    "\n",
    "    # Basis rotation\n",
    "    adjoint_rotation = qml.adjoint(convert_to_y_basis) # takes quantum function and returns function that applies adjoint\n",
    "    adjoint_rotation()\n",
    "\n",
    "    return qml.probs(wires=0)\n",
    "\n"
   ]
  },
  {
   "cell_type": "code",
   "execution_count": 5,
   "metadata": {},
   "outputs": [
    {
     "data": {
      "text/plain": [
       "tensor([0.08907761, 0.91092239], requires_grad=True)"
      ]
     },
     "execution_count": 5,
     "metadata": {},
     "output_type": "execute_result"
    }
   ],
   "source": [
    "\n",
    "rotate_basis()"
   ]
  },
  {
   "cell_type": "code",
   "execution_count": 6,
   "metadata": {},
   "outputs": [
    {
     "data": {
      "text/plain": [
       "(<Figure size 700x200 with 1 Axes>, <Axes: >)"
      ]
     },
     "execution_count": 6,
     "metadata": {},
     "output_type": "execute_result"
    },
    {
     "data": {
      "image/png": "[encoded data removed]",
      "text/plain": [
       "<Figure size 700x200 with 1 Axes>"
      ]
     },
     "metadata": {},
     "output_type": "display_data"
    }
   ],
   "source": [
    "\n",
    "qml.draw_mpl(rotate_basis)()"
   ]
  },
  {
   "cell_type": "markdown",
   "metadata": {},
   "source": [
    "## Demo 1: `qml.ctrl`"
   ]
  },
  {
   "cell_type": "markdown",
   "metadata": {},
   "source": [
    "Implement the following circuit; apply the controlled operations in two different ways."
   ]
  },
  {
   "cell_type": "markdown",
   "metadata": {},
   "source": [
    "<img src=\"fig/mq-circuit.png\" width=350>"
   ]
  },
  {
   "cell_type": "code",
   "execution_count": 12,
   "metadata": {},
   "outputs": [
    {
     "data": {
      "text/plain": [
       "tensor([0.99003329, 0.00996671], requires_grad=True)"
      ]
     },
     "execution_count": 12,
     "metadata": {},
     "output_type": "execute_result"
    }
   ],
   "source": [
    "dev = qml.device(\"default.qubit\", wires=3)\n",
    "\n",
    "@qml.qnode(dev)\n",
    "def circuit(x, y, z):\n",
    "    qml.CRX(x,  wires=[0, 1]) # controlled RX, apply to qubit 1 controlled on qubit 0\n",
    "    qml.ctrl(qml.RY, control=0)(y, wires=2) # \n",
    "    qml.RX(x, wires=0)\n",
    "    qml.RY(y, wires=1)\n",
    "    qml.RZ(z, wires=2)\n",
    "    qml.Hadamard(wires=2)\n",
    "    return qml.probs(wires=[1])\n",
    "\n",
    "circuit(0.1, 0.2, 0.3)\n"
   ]
  },
  {
   "cell_type": "markdown",
   "metadata": {},
   "source": [
    "## Demo 2: multi-qubit measurements"
   ]
  },
  {
   "cell_type": "markdown",
   "metadata": {},
   "source": [
    "Given the previous circuit, compute the measurement outcome probabilities of:\n",
    " - each 3-qubit computational basis state\n",
    " - the probability of the first two qubits being in state $|11\\rangle$"
   ]
  },
  {
   "cell_type": "code",
   "execution_count": null,
   "metadata": {},
   "outputs": [],
   "source": []
  }
 ],
 "metadata": {
  "kernelspec": {
   "display_name": "cpen400q",
   "language": "python",
   "name": "python3"
  },
  "language_info": {
   "codemirror_mode": {
    "name": "ipython",
    "version": 3
   },
   "file_extension": ".py",
   "mimetype": "text/x-python",
   "name": "python",
   "nbconvert_exporter": "python",
   "pygments_lexer": "ipython3",
   "version": "3.11.0 | packaged by conda-forge | (main, Oct 25 2022, 06:21:25) [Clang 14.0.4 ]"
  },
  "vscode": {
   "interpreter": {
    "hash": "635ed6af5a464993c12eb65282051ed9764a82bc104a339084de04a398e679ff"
   }
  }
 },
 "nbformat": 4,
 "nbformat_minor": 4
}
