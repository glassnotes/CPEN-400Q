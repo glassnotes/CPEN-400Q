{
 "cells": [
  {
   "cell_type": "code",
   "execution_count": 73,
   "metadata": {},
   "outputs": [],
   "source": [
    "import numpy as np\n",
    "import pennylane as qml\n",
    "\n",
    "\n",
    "def prepare_state(theta, phi):\n",
    "    \"\"\"Quantum function to prepare states of the form\n",
    "        cos(\\theta/2) |0> + e^(i\\phi) sin(\\theta/2) |1>.\n",
    "\n",
    "    In principle, this function would be hidden, with no knowledge of theta/phi,\n",
    "    in order to prepare a truly random state. It is provided here just for\n",
    "    expository purposes.\n",
    "    \"\"\"\n",
    "    qml.RY(theta, wires=0)\n",
    "    qml.RZ(phi, wires=0)\n",
    "    return qml.expval(qml.PauliX(0)), qml.expval(qml.PauliY(0)), qml.expval(qml.PauliZ(0))\n",
    "\n",
    "\n",
    "\n",
    "def extract_bloch_vector(theta, phi):\n",
    "    \"\"\"Given a set of angular parameters representing the quantum state\n",
    "        cos(\\theta/2) |0> + e^(i\\phi) sin(\\theta/2) |1>,\n",
    "    compute the Bloch vector associated to this state.\n",
    "\n",
    "    The Bloch vector has three real-valued elements representing the position of\n",
    "    the quantum state in the 3-dimensional space of the Bloch sphere. It can\n",
    "    be computed by measuring a cleverly-chosen set of expectation values.\n",
    "\n",
    "    Args:\n",
    "        theta (float): Angular parameter of the states.\n",
    "        phi (float): Phase parameter of the state.\n",
    "\n",
    "    Returns:\n",
    "        bloch_vector (array[float, float, float]): A NumPy array representing the\n",
    "        3-element Bloch vector.\n",
    "    \"\"\"\n",
    "    # Note here that we use an analytic device so that we get exact results\n",
    "    dev = qml.device(\"default.qubit\", wires=1)\n",
    "\n",
    "    # YOUR CODE HERE\n",
    "    # Use theta, phi *only* as arguments to prepare_state\n",
    "    qnode = qml.QNode(prepare_state, dev)\n",
    "    return qnode(theta, phi)"
   ]
  },
  {
   "cell_type": "code",
   "execution_count": 74,
   "metadata": {},
   "outputs": [
    {
     "data": {
      "text/plain": [
       "tensor([0., 0., 1.], requires_grad=True)"
      ]
     },
     "execution_count": 74,
     "metadata": {},
     "output_type": "execute_result"
    }
   ],
   "source": [
    "\n",
    "extract_bloch_vector(0.0,0.0) # Expected [0. 0. 1.]"
   ]
  },
  {
   "cell_type": "code",
   "execution_count": null,
   "metadata": {},
   "outputs": [],
   "source": []
  }
 ],
 "metadata": {
  "kernelspec": {
   "display_name": "cpen400q",
   "language": "python",
   "name": "python3"
  },
  "language_info": {
   "codemirror_mode": {
    "name": "ipython",
    "version": 3
   },
   "file_extension": ".py",
   "mimetype": "text/x-python",
   "name": "python",
   "nbconvert_exporter": "python",
   "pygments_lexer": "ipython3",
   "version": "3.11.0"
  },
  "orig_nbformat": 4,
  "vscode": {
   "interpreter": {
    "hash": "635ed6af5a464993c12eb65282051ed9764a82bc104a339084de04a398e679ff"
   }
  }
 },
 "nbformat": 4,
 "nbformat_minor": 2
}
