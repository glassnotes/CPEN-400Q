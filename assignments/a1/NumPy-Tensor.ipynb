{
 "cells": [
  {
   "cell_type": "code",
   "execution_count": 1,
   "metadata": {},
   "outputs": [],
   "source": [
    "import numpy as np"
   ]
  },
  {
   "cell_type": "code",
   "execution_count": null,
   "metadata": {},
   "outputs": [],
   "source": [
    "def tensor_matrices(mat_list):\n",
    "    \"\"\"Take the tensor product of a list of matrices.\n",
    "    Given a list of matrices [M_1, M_2, ..., M_n], this function should compute\n",
    "    the tensor product M = M_1 ⊗ M_2 ⊗ ... ⊗ M_n.\n",
    "    Args:\n",
    "        mat_list (list[array[complex]]): A list of complex-valued NumPy arrays.\n",
    "            You can safely assume that there is always at least one matrix in\n",
    "            the list. The dimensions may be variable.\n",
    "    Returns:\n",
    "        array[complex]: The tensor product of the provided inputs.\n",
    "    \"\"\"\n",
    "    # YOUR CODE HERE\n",
    "\n",
    "    return"
   ]
  }
 ],
 "metadata": {
  "kernelspec": {
   "display_name": "Python 3",
   "language": "python",
   "name": "python3"
  },
  "language_info": {
   "codemirror_mode": {
    "name": "ipython",
    "version": 3
   },
   "file_extension": ".py",
   "mimetype": "text/x-python",
   "name": "python",
   "nbconvert_exporter": "python",
   "pygments_lexer": "ipython3",
   "version": "3.9.6"
  },
  "orig_nbformat": 4,
  "vscode": {
   "interpreter": {
    "hash": "c0220ec35125039f33035fe20b7a62c841c25361dc8c605f98fef14ca21bbd1f"
   }
  }
 },
 "nbformat": 4,
 "nbformat_minor": 2
}
