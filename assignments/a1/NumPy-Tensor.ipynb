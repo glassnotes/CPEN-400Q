{
 "cells": [
  {
   "cell_type": "code",
   "execution_count": 1,
   "metadata": {},
   "outputs": [],
   "source": [
    "import numpy as np"
   ]
  },
  {
   "cell_type": "code",
   "execution_count": 6,
   "metadata": {},
   "outputs": [
    {
     "name": "stdout",
     "output_type": "stream",
     "text": [
      "1\n"
     ]
    },
    {
     "data": {
      "text/plain": [
       "array([  5,   6,   7,  50,  60,  70, 500, 600, 700])"
      ]
     },
     "execution_count": 6,
     "metadata": {},
     "output_type": "execute_result"
    }
   ],
   "source": [
    "def tensor_matrices(mat_list):\n",
    "    \"\"\"Take the tensor product of a list of matrices.\n",
    "    Given a list of matrices [M_1, M_2, ..., M_n], this function should compute\n",
    "    the tensor product M = M_1 ⊗ M_2 ⊗ ... ⊗ M_n.\n",
    "    Args:\n",
    "        mat_list (list[array[complex]]): A list of complex-valued NumPy arrays.\n",
    "            You can safely assume that there is always at least one matrix in\n",
    "            the list. The dimensions may be variable.\n",
    "    Returns:\n",
    "        array[complex]: The tensor product of the provided inputs.\n",
    "    \"\"\"\n",
    "    # YOUR CODE HERE\n",
    "    ret = mat_list[0]\n",
    "    for i in range(1, len(mat_list)):\n",
    "        ret = np.kron(ret, mat_list[i])\n",
    "\n",
    "    return ret\n",
    "\n",
    "tensor_matrices([[1, 10, 100], [5, 6, 7]])"
   ]
  },
  {
   "cell_type": "code",
   "execution_count": null,
   "metadata": {},
   "outputs": [],
   "source": []
  }
 ],
 "metadata": {
  "kernelspec": {
   "display_name": "cpen400q",
   "language": "python",
   "name": "python3"
  },
  "language_info": {
   "codemirror_mode": {
    "name": "ipython",
    "version": 3
   },
   "file_extension": ".py",
   "mimetype": "text/x-python",
   "name": "python",
   "nbconvert_exporter": "python",
   "pygments_lexer": "ipython3",
   "version": "3.11.0"
  },
  "orig_nbformat": 4,
  "vscode": {
   "interpreter": {
    "hash": "635ed6af5a464993c12eb65282051ed9764a82bc104a339084de04a398e679ff"
   }
  }
 },
 "nbformat": 4,
 "nbformat_minor": 2
}
