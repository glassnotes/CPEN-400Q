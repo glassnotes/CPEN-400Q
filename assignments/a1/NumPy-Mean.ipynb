{
 "cells": [
  {
   "cell_type": "code",
   "execution_count": null,
   "id": "81be77dd-8609-4cb3-89b5-326018ba55cc",
   "metadata": {},
   "outputs": [],
   "source": [
    "import numpy as np"
   ]
  },
  {
   "cell_type": "code",
   "execution_count": null,
   "id": "3e1356e2-1187-45cf-a044-26da984a1fdb",
   "metadata": {},
   "outputs": [],
   "source": [
    "def compute_full_mean(array):\n",
    "    \"\"\"Compute the mean of all elements in a NumPy array.\n",
    "    \n",
    "    Args:\n",
    "        array (np.array): A two-dimensional NumPy array with dimension M x N,\n",
    "            where M is an unknown number of rows, and N is an unknown number \n",
    "            of columns.\n",
    "    \n",
    "    Returns:\n",
    "        float: The mean value taken over the entire array. \n",
    "        \n",
    "    \n",
    "    Example:\n",
    "    \n",
    "    >>> A = np.array([[1, 2, 3], [4, 5, 6]])\n",
    "    >>> compute_full_mean(A)\n",
    "    3.5\n",
    "    \"\"\"\n",
    "    return"
   ]
  },
  {
   "cell_type": "code",
   "execution_count": null,
   "id": "99e49dec-12ff-4c7f-b5d3-44e7b708f5f8",
   "metadata": {},
   "outputs": [],
   "source": [
    "def compute_row_mean(array):\n",
    "    \"\"\"Compute the means of all the rows in a NumPy array.\n",
    "    \n",
    "    Args:\n",
    "        array (np.array): A two-dimensional NumPy array with dimension M x N,\n",
    "            where M is an unknown number of rows, and N is an unknown number \n",
    "            of columns.\n",
    "    \n",
    "    Returns:\n",
    "        float: An array with M elements corresponding to the means of the rows.\n",
    "        \n",
    "    Example:\n",
    "        \n",
    "    >>> A = np.array([[1, 2, 3], [4, 5, 6]])\n",
    "    >>> compute_row_mean(A)\n",
    "    array([2., 5.])\n",
    "    \"\"\"\n",
    "    return"
   ]
  },
  {
   "cell_type": "code",
   "execution_count": null,
   "id": "f5039281-a8c0-47b3-8ac9-ad3f9cd2d216",
   "metadata": {},
   "outputs": [],
   "source": [
    "def compute_column_mean(array):\n",
    "    \"\"\"Compute the means of all the columns in a NumPy array.\n",
    "    \n",
    "    Args:\n",
    "        array (np.array): A two-dimensional NumPy array with dimension M x N,\n",
    "            where M is an unknown number of rows, and N is an unknown number \n",
    "            of columns.\n",
    "    \n",
    "    Returns:\n",
    "        float: An array with N elements corresponding to the means of the columns.\n",
    "        \n",
    "    Example:\n",
    "        \n",
    "    >>> A = np.array([[1, 2, 3], [4, 5, 6]])\n",
    "    >>> compute_column_mean(A)\n",
    "    array([2.5, 3.5, 4.5])\n",
    "    \"\"\"\n",
    "    return"
   ]
  }
 ],
 "metadata": {
  "kernelspec": {
   "display_name": "Python 3 (ipykernel)",
   "language": "python",
   "name": "python3"
  },
  "language_info": {
   "codemirror_mode": {
    "name": "ipython",
    "version": 3
   },
   "file_extension": ".py",
   "mimetype": "text/x-python",
   "name": "python",
   "nbconvert_exporter": "python",
   "pygments_lexer": "ipython3",
   "version": "3.7.6"
  }
 },
 "nbformat": 4,
 "nbformat_minor": 5
}
