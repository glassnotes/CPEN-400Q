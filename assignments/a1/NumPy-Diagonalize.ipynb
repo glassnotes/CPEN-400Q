{
 "cells": [
  {
   "cell_type": "code",
   "execution_count": 1,
   "metadata": {},
   "outputs": [],
   "source": [
    "import numpy as np"
   ]
  },
  {
   "cell_type": "code",
   "execution_count": 4,
   "metadata": {},
   "outputs": [
    {
     "data": {
      "text/plain": [
       "(array([ 1., -1.]),\n",
       " array([[1., 0.],\n",
       "        [0., 1.]]))"
      ]
     },
     "execution_count": 4,
     "metadata": {},
     "output_type": "execute_result"
    }
   ],
   "source": [
    "\n",
    "def compute_eigensystem(mat):\n",
    "    \"\"\"Diagonalize a matrix by computing its eigenvalues and eigenvectors.\n",
    "    Example:\n",
    "        Let Z = np.array([[1, 0], [0, -1]]). This function should return\n",
    "        a tuple of values (eigvals, eigvecs), where\n",
    "            eigvals = np.array([1, -1])\n",
    "            eigvecs = np.array([[1, 0], [0, 1]])\n",
    "    Args:\n",
    "        mat (array[complex]): A square, complex-valued matrix. You can safely\n",
    "            assume that this matrix is, in fact, diagonalizable.\n",
    "    Returns:\n",
    "        (array[complex], array[complex]): The eigenvalues and eigenvectors\n",
    "        of the input matrix, represented as 1D and 2D arrays respectively.\n",
    "    \"\"\"\n",
    "    # YOUR CODE HERE\n",
    "\n",
    "    return np.linalg.eig(mat)\n",
    "\n",
    "Z = np.array([[1, 0], [0, -1]])\n",
    "compute_eigensystem(Z)"
   ]
  },
  {
   "cell_type": "code",
   "execution_count": null,
   "metadata": {},
   "outputs": [],
   "source": []
  }
 ],
 "metadata": {
  "kernelspec": {
   "display_name": "cpen400q",
   "language": "python",
   "name": "python3"
  },
  "language_info": {
   "codemirror_mode": {
    "name": "ipython",
    "version": 3
   },
   "file_extension": ".py",
   "mimetype": "text/x-python",
   "name": "python",
   "nbconvert_exporter": "python",
   "pygments_lexer": "ipython3",
   "version": "3.11.0"
  },
  "orig_nbformat": 4,
  "vscode": {
   "interpreter": {
    "hash": "635ed6af5a464993c12eb65282051ed9764a82bc104a339084de04a398e679ff"
   }
  }
 },
 "nbformat": 4,
 "nbformat_minor": 2
}
