{
 "cells": [
  {
   "cell_type": "code",
   "execution_count": null,
   "metadata": {},
   "outputs": [],
   "source": [
    "import numpy as np"
   ]
  },
  {
   "cell_type": "code",
   "execution_count": null,
   "metadata": {},
   "outputs": [],
   "source": [
    "\n",
    "def compute_eigensystem(mat):\n",
    "    \"\"\"Diagonalize a matrix by computing its eigenvalues and eigenvectors.\n",
    "    Example:\n",
    "        Let Z = np.array([[1, 0], [0, -1]]). This function should return\n",
    "        a tuple of values (eigvals, eigvecs), where\n",
    "            eigvals = np.array([1, -1])\n",
    "            eigvecs = np.array([[1, 0], [0, 1]])\n",
    "    Args:\n",
    "        mat (array[complex]): A square, complex-valued matrix. You can safely\n",
    "            assume that this matrix is, in fact, diagonalizable.\n",
    "    Returns:\n",
    "        (array[complex], array[complex]): The eigenvalues and eigenvectors\n",
    "        of the input matrix, represented as 1D and 2D arrays respectively.\n",
    "    \"\"\"\n",
    "    # YOUR CODE HERE\n",
    "\n",
    "    return\n"
   ]
  }
 ],
 "metadata": {
  "language_info": {
   "name": "python"
  },
  "orig_nbformat": 4
 },
 "nbformat": 4,
 "nbformat_minor": 2
}
