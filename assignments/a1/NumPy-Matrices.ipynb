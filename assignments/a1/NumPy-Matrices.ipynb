{
 "cells": [
  {
   "cell_type": "code",
   "execution_count": null,
   "metadata": {},
   "outputs": [],
   "source": [
    "import numpy as np"
   ]
  },
  {
   "cell_type": "code",
   "execution_count": null,
   "metadata": {},
   "outputs": [],
   "source": [
    "def is_unitary(mat):\n",
    "    \"\"\"Determines whether a matrix is unitary.\n",
    "    Args:\n",
    "        mat (array[complex]): A square, complex-valued matrix.\n",
    "    Returns:\n",
    "        bool: True if the input matrix is unitary, False otherwise.\n",
    "    \"\"\"\n",
    "    # YOUR CODE HERE\n",
    "\n",
    "    return\n"
   ]
  },
  {
   "cell_type": "code",
   "execution_count": null,
   "metadata": {},
   "outputs": [],
   "source": [
    "def is_hermitian(mat):\n",
    "    \"\"\"Determines whether a matrix is Hermitian.\n",
    "    Args:\n",
    "        mat (array[complex]): A square, complex-valued matrix.\n",
    "    Returns:\n",
    "        bool: True if the input matrix is Hermitian, False otherwise.\n",
    "    \"\"\"\n",
    "    # YOUR CODE HERE\n",
    "\n",
    "    return\n"
   ]
  },
  {
   "cell_type": "code",
   "execution_count": null,
   "metadata": {},
   "outputs": [],
   "source": [
    "def is_symmetric(mat):\n",
    "    \"\"\"Determines whether a matrix is symmetric.\n",
    "    Args:\n",
    "        mat (array[complex]): A square, complex-valued matrix.\n",
    "    Returns:\n",
    "        bool: True if the input matrix is symmetric, False otherwise.\n",
    "    \"\"\"\n",
    "    # YOUR CODE HERE\n",
    "\n",
    "    return\n"
   ]
  }
 ],
 "metadata": {
  "language_info": {
   "name": "python"
  },
  "orig_nbformat": 4
 },
 "nbformat": 4,
 "nbformat_minor": 2
}
