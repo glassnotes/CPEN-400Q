{
 "cells": [
  {
   "cell_type": "code",
   "execution_count": 1,
   "metadata": {},
   "outputs": [],
   "source": [
    "import numpy as np"
   ]
  },
  {
   "cell_type": "code",
   "execution_count": 22,
   "metadata": {},
   "outputs": [
    {
     "name": "stdout",
     "output_type": "stream",
     "text": [
      "[[0. 1.]\n",
      " [1. 0.]]\n"
     ]
    },
    {
     "data": {
      "text/plain": [
       "True"
      ]
     },
     "execution_count": 22,
     "metadata": {},
     "output_type": "execute_result"
    }
   ],
   "source": [
    "def is_unitary(mat):\n",
    "    \"\"\"Determines whether a matrix is unitary.\n",
    "    Args:\n",
    "        mat (array[complex]): A square, complex-valued matrix.\n",
    "    Returns:\n",
    "        bool: True if the input matrix is unitary, False otherwise.\n",
    "    \"\"\"\n",
    "    # YOUR CODE HERE\n",
    "\n",
    "    return np.allclose(np.eye(mat.shape[0]),  mat.conj().T @ mat)\n",
    "\n",
    "a = np.zeros((2, 2))\n",
    "a[0][1] = 1\n",
    "a[1][0] = 1\n",
    "\n",
    "is_unitary(a)"
   ]
  },
  {
   "cell_type": "code",
   "execution_count": 21,
   "metadata": {},
   "outputs": [
    {
     "data": {
      "text/plain": [
       "True"
      ]
     },
     "execution_count": 21,
     "metadata": {},
     "output_type": "execute_result"
    }
   ],
   "source": [
    "def is_hermitian(mat):\n",
    "    \"\"\"Determines whether a matrix is Hermitian.\n",
    "    Args:\n",
    "        mat (array[complex]): A square, complex-valued matrix.\n",
    "    Returns:\n",
    "        bool: True if the input matrix is Hermitian, False otherwise.\n",
    "    \"\"\"\n",
    "    # YOUR CODE HERE\n",
    "    return np.allclose(mat, mat.conj().T)\n",
    "\n",
    "is_hermitian(np.identity(3))\n"
   ]
  },
  {
   "cell_type": "code",
   "execution_count": 20,
   "metadata": {},
   "outputs": [
    {
     "data": {
      "text/plain": [
       "True"
      ]
     },
     "execution_count": 20,
     "metadata": {},
     "output_type": "execute_result"
    }
   ],
   "source": [
    "def is_symmetric(mat):\n",
    "    \"\"\"Determines whether a matrix is symmetric.\n",
    "    Args:\n",
    "        mat (array[complex]): A square, complex-valued matrix.\n",
    "    Returns:\n",
    "        bool: True if the input matrix is symmetric, False otherwise.\n",
    "    \"\"\"\n",
    "    # YOUR CODE HERE\n",
    "\n",
    "    return np.allclose(mat, mat.T)\n",
    "\n",
    "is_symmetric(np.identity(3))"
   ]
  },
  {
   "cell_type": "code",
   "execution_count": null,
   "metadata": {},
   "outputs": [],
   "source": []
  }
 ],
 "metadata": {
  "kernelspec": {
   "display_name": "cpen400q",
   "language": "python",
   "name": "python3"
  },
  "language_info": {
   "codemirror_mode": {
    "name": "ipython",
    "version": 3
   },
   "file_extension": ".py",
   "mimetype": "text/x-python",
   "name": "python",
   "nbconvert_exporter": "python",
   "pygments_lexer": "ipython3",
   "version": "3.11.0"
  },
  "orig_nbformat": 4,
  "vscode": {
   "interpreter": {
    "hash": "635ed6af5a464993c12eb65282051ed9764a82bc104a339084de04a398e679ff"
   }
  }
 },
 "nbformat": 4,
 "nbformat_minor": 2
}
