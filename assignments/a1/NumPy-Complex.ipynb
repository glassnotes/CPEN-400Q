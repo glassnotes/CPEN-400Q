{
 "cells": [
  {
   "cell_type": "code",
   "execution_count": null,
   "id": "ba4fc290-e000-431f-9c5e-97495eeb6250",
   "metadata": {},
   "outputs": [],
   "source": [
    "import numpy as np"
   ]
  },
  {
   "cell_type": "code",
   "execution_count": null,
   "id": "58f0957e-c8fc-45f9-9794-6863aa8a97d4",
   "metadata": {},
   "outputs": [],
   "source": [
    "def rectangular_to_polar(a, b):\n",
    "    \"\"\"Converts a complex number in rectangular form to polar form.\n",
    "\n",
    "    A complex number in rectangular form is reprented as z = a + 1j * b\n",
    "    where 1j is the imaginary unit in NumPy.\n",
    "\n",
    "    Args:\n",
    "        a (float): The real portion of the complex number.\n",
    "        b (float): The imaginary portion of the complex number.\n",
    "\n",
    "    Returns:\n",
    "        (float, float): A tuple of values (r, theta) such that z = r * np.exp(1j * theta)\n",
    "        is the same complex number as z = a + 1j * b.\n",
    "        \n",
    "    Example:\n",
    "    \n",
    "    >>> rectangular_to_polar(1.0, -2.0)\n",
    "    (2.23606797749979, -1.1071487177940904)\n",
    "    \"\"\"\n",
    "    return"
   ]
  },
  {
   "cell_type": "code",
   "execution_count": null,
   "id": "dd4e2800-402e-4a26-bf93-2de596944eba",
   "metadata": {},
   "outputs": [],
   "source": [
    "def polar_to_rectangular(r, theta):\n",
    "    \"\"\"Converts a complex number in polar form to rectangular form.\n",
    "\n",
    "    A complex number in polar form is reprented as z = r * np.exp(1j * theta).\n",
    "\n",
    "    Args:\n",
    "        r (float): The magnitude of the complex number.\n",
    "        theta (float): The phase of the complex number.\n",
    "\n",
    "    Returns:\n",
    "        (float, float): A tuple of values (a, b) such that z = a + 1j * b is\n",
    "        the same complex number as z = r * np.exp(1j * theta).\n",
    "        \n",
    "    Example:\n",
    "    >>> polar_to_rectangular(1.0, -2.0)\n",
    "    (-0.4161468365471424, -0.9092974268256817)\n",
    "    \"\"\"\n",
    "    return"
   ]
  },
  {
   "cell_type": "code",
   "execution_count": null,
   "id": "a2d88963-b1b6-439d-9e85-cec6581d300f",
   "metadata": {},
   "outputs": [],
   "source": [
    "def merge_real_and_complex(array):\n",
    "    \"\"\"Sum together the real and imaginary parts of an array.\n",
    "\n",
    "    Args:\n",
    "        array (array[complex]): A 2D complex-valued array of arbitary shape.\n",
    "\n",
    "    Returns:\n",
    "        array[float]: A 2D real-valued array that is the sum of the real part\n",
    "        and complex part of the input.\n",
    "        \n",
    "    Example:\n",
    "    >>> A = np.array([[1.0 + 2j, 0.8 - 3j], [0.2 + 0.4j, 0.8 - 1j]])\n",
    "    >>> merge_real_and_complex(A)\n",
    "    array([[ 3. , -2.2],\n",
    "           [ 0.6, -0.2]])\n",
    "    \"\"\"\n",
    "    return"
   ]
  }
 ],
 "metadata": {
  "kernelspec": {
   "display_name": "Python 3 (ipykernel)",
   "language": "python",
   "name": "python3"
  },
  "language_info": {
   "codemirror_mode": {
    "name": "ipython",
    "version": 3
   },
   "file_extension": ".py",
   "mimetype": "text/x-python",
   "name": "python",
   "nbconvert_exporter": "python",
   "pygments_lexer": "ipython3",
   "version": "3.7.6"
  }
 },
 "nbformat": 4,
 "nbformat_minor": 5
}
